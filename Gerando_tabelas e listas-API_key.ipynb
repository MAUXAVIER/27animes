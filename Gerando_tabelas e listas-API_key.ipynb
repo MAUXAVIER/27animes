{
  "nbformat": 4,
  "nbformat_minor": 0,
  "metadata": {
    "colab": {
      "provenance": [],
      "authorship_tag": "ABX9TyMfiF9vvwWupomKHZofS0N4",
      "include_colab_link": true
    },
    "kernelspec": {
      "name": "python3",
      "display_name": "Python 3"
    },
    "language_info": {
      "name": "python"
    }
  },
  "cells": [
    {
      "cell_type": "markdown",
      "metadata": {
        "id": "view-in-github",
        "colab_type": "text"
      },
      "source": [
        "<a href=\"https://colab.research.google.com/github/MAUXAVIER/27animes/blob/main/Gerando_tabelas%20e%20listas-API_key.ipynb\" target=\"_parent\"><img src=\"https://colab.research.google.com/assets/colab-badge.svg\" alt=\"Open In Colab\"/></a>"
      ]
    },
    {
      "cell_type": "code",
      "execution_count": 4,
      "metadata": {
        "colab": {
          "base_uri": "https://localhost:8080/",
          "height": 416
        },
        "id": "UjJWaE7ONuic",
        "outputId": "ecaef4d6-1226-4096-cf76-8a9b2d047914"
      },
      "outputs": [
        {
          "output_type": "stream",
          "name": "stdout",
          "text": [
            "Gerador de lista em JSON\n",
            "Quantas colunas?4, nome do time1, número de gols1, número de gols2, nome do time2\n",
            "Quantas linhas?13, partidas de futebol, escolha as maiores goleadas de 2023\n",
            "Qual o tema?futebol mundial\n",
            "Deseja detalhar o tema?não separe as categorias feminino do masculino\n",
            "Gerando...\n",
            "----------------------------------------------------\n",
            "**Maiores Goleadas de 2023**\n",
            "\n",
            "| **Time 1** | **Gols 1** | **Gols 2** | **Time 2** |\n",
            "|---|---|---|---|\n",
            "| Real Madrid | 9 | 1 | Almería |\n",
            "| Manchester City | 8 | 1 | Arsenal |\n",
            "| Bayern de Munique | 7 | 1 | Union Berlin |\n",
            "| Napoli | 6 | 0 | Sassuolo |\n",
            "| Barcelona | 5 | 0 | Villarreal |\n",
            "| Inter de Milão | 5 | 2 | Lazio |\n",
            "| Chelsea | 4 | 0 | Southampton |\n",
            "| Liverpool | 4 | 0 | Wolverhampton |\n",
            "| Tottenham | 4 | 0 | Chelsea |\n",
            "| Milan | 3 | 0 | Crotone |\n",
            "| Ajax | 3 | 0 | Heerenveen |\n",
            "| Borussia Dortmund | 3 | 0 | Köln |\n"
          ]
        }
      ],
      "source": [
        "!pip install -q -U google-generativeai\n",
        "import google.generativeai as genai\n",
        "from google.colab import userdata\n",
        "api_key = userdata.get('SECRET_KEY')\n",
        "genai.configure(api_key=api_key)\n",
        "\n",
        "model = genai.GenerativeModel('gemini-pro')\n",
        "\n",
        "print('Gerador de lista em JSON')\n",
        "num_col = input('Quantas colunas?') # testar limite 5 colonas\n",
        "num_lin = input('Quantas linhas?') # testar limite 10 linhas\n",
        "tema = input('Qual o tema?')\n",
        "detal = input('Deseja detalhar o tema?')\n",
        "\n",
        "print('Gerando...')\n",
        "print('----------------------------------------------------')\n",
        "\n",
        "response = model.generate_content(f\"Assunto: {tema}. Detalhes: {detal}. Formate uma tabela. Número de Linhas: {num_lin} .Número de colunas: {num_col}. Pense na melhor forma de organizar os dados e crie as linhas e colunas da tabela. Apresente a tabela numa formatação humanizada.\")\n",
        "print(response.text)\n"
      ]
    }
  ]
}