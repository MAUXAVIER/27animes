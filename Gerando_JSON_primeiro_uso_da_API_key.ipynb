{
  "nbformat": 4,
  "nbformat_minor": 0,
  "metadata": {
    "colab": {
      "provenance": [],
      "authorship_tag": "ABX9TyNXAs8anKVQEUhkCuhzZ1V2",
      "include_colab_link": true
    },
    "kernelspec": {
      "name": "python3",
      "display_name": "Python 3"
    },
    "language_info": {
      "name": "python"
    }
  },
  "cells": [
    {
      "cell_type": "markdown",
      "metadata": {
        "id": "view-in-github",
        "colab_type": "text"
      },
      "source": [
        "<a href=\"https://colab.research.google.com/github/MAUXAVIER/27animes/blob/main/Gerando_JSON_primeiro_uso_da_API_key.ipynb\" target=\"_parent\"><img src=\"https://colab.research.google.com/assets/colab-badge.svg\" alt=\"Open In Colab\"/></a>"
      ]
    },
    {
      "cell_type": "code",
      "execution_count": 5,
      "metadata": {
        "colab": {
          "base_uri": "https://localhost:8080/",
          "height": 1000
        },
        "id": "UjJWaE7ONuic",
        "outputId": "691e5cb4-f153-429f-a606-a8d48bbf2146"
      },
      "outputs": [
        {
          "output_type": "stream",
          "name": "stdout",
          "text": [
            "```json\n",
            "[\n",
            "  {\n",
            "    \"titulo_do_anime\": \"Demon Slayer: Kimetsu no Yaiba\",\n",
            "    \"dica\": \"Conto épico de um jovem que se torna caçador de demônios para vingar sua família.\"\n",
            "  },\n",
            "  {\n",
            "    \"titulo_do_anime\": \"Jujutsu Kaisen\",\n",
            "    \"dica\": \"História sobre um estudante do ensino médio que se torna um feiticeiro para combater maldições.\"\n",
            "  },\n",
            "  {\n",
            "    \"titulo_do_anime\": \"Attack on Titan\",\n",
            "    \"dica\": \"Luta épica da humanidade contra gigantescos Titãs que ameaçam sua existência.\"\n",
            "  },\n",
            "  {\n",
            "    \"titulo_do_anime\": \"Tokyo Revengers\",\n",
            "    \"dica\": \"Um delinquente viaja no tempo para impedir a morte de sua namorada e seus amigos.\"\n",
            "  },\n",
            "  {\n",
            "    \"titulo_do_anime\": \"My Hero Academia\",\n",
            "    \"dica\": \"Academia de super-heróis onde um jovem sem peculiaridades aspira se tornar um herói.\"\n",
            "  },\n",
            "  {\n",
            "    \"titulo_do_anime\": \"Black Clover\",\n",
            "    \"dica\": \"História de dois órfãos que competem para se tornarem o Rei Mago.\"\n",
            "  },\n",
            "  {\n",
            "    \"titulo_do_anime\": \"Dr. Stone\",\n",
            "    \"dica\": \"Após uma calamidade petrificar a humanidade, um gênio da ciência acorda e tenta reconstruir a civilização.\"\n",
            "  },\n",
            "  {\n",
            "    \"titulo_do_anime\": \"Chainsaw Man\",\n",
            "    \"dica\": \"Um homem se torna um caçador de demônios com a habilidade de transformar seu corpo em motosserras.\"\n",
            "  },\n",
            "  {\n",
            "    \"titulo_do_anime\": \"Kaguya-sama: Love is War\",\n",
            "    \"dica\": \"Comédia romântica sobre dois gênios que tentam fazer com que o outro confesse seu amor primeiro.\"\n",
            "  },\n",
            "  {\n",
            "    \"titulo_do_anime\": \"Record of Ragnarok\",\n",
            "    \"dica\": \"Torneio épico entre deuses e humanos para decidir o destino da humanidade.\"\n",
            "  },\n",
            "  {\n",
            "    \"titulo_do_anime\": \"Jujutsu Kaisen 0\",\n",
            "    \"dica\": \"Prequela do anime 'Jujutsu Kaisen' que explora a história de um jovem feiticeiro.\"\n",
            "  },\n",
            "  {\n",
            "    \"titulo_do_anime\": \"Demon Slayer: Kimetsu no Yaiba: The Movie - Mugen Train\",\n",
            "    \"dica\": \"Filme que continua a história da primeira temporada do anime.\"\n",
            "  },\n",
            "  {\n",
            "    \"titulo_do_anime\": \"Tokyo Revengers: Christmas Showdown Arc\",\n",
            "    \"dica\": \"Arco especial que se passa após o final da primeira temporada do anime.\"\n",
            "  },\n",
            "  {\n",
            "    \"titulo_do_anime\": \"My Hero Academia: World Heroes' Mission\",\n",
            "    \"dica\": \"Filme que se passa durante a quinta temporada do anime.\"\n",
            "  },\n",
            "  {\n",
            "    \"titulo_do_anime\": \"One Piece Film: Red\",\n",
            "    \"dica\": \"Filme que celebra o 25º aniversário do mangá 'One Piece'.\"\n",
            "  },\n",
            "  {\n",
            "    \"titulo_do_anime\": \"Bleach: Thousand-Year Blood War\",\n",
            "    \"dica\": \"Retorno do anime 'Bleach' após uma longa pausa.\"\n",
            "  },\n",
            "  {\n",
            "    \"titulo_do_anime\": \"Naruto: Boruto\",\n",
            "    \"dica\": \"Sequência do anime 'Naruto', seguindo as aventuras do filho de Naruto.\"\n",
            "  },\n",
            "  {\n",
            "    \"titulo_do_anime\": \"Dr. Stone: New World\",\n",
            "    \"dica\": \"Segunda temporada da série 'Dr. Stone'.\"\n",
            "  },\n",
            "  {\n",
            "    \"titulo_do_anime\": \"Blue Lock\",\n",
            "    \"dica\": \"Anime sobre um programa de treinamento de futebol para criar o melhor atacante do mundo.\"\n",
            "  },\n",
            "  {\n",
            "    \"titulo_do_anime\": \"Spy x Family\",\n",
            "    \"dica\": \"Comédia de ação sobre um espião que se casa com uma assassina e adota uma criança telepata.\"\n",
            "  },\n",
            "  {\n",
            "    \"titulo_do_anime\": \"Summer Time Render\",\n",
            "    \"dica\": \"Mistério sobrenatural em uma ilha remota.\"\n",
            "  },\n",
            "  {\n",
            "    \"titulo_do_anime\": \"Overlord\",\n",
            "    \"dica\": \"Anime isekai sobre um jogador que fica preso em um MMORPG.\"\n",
            "  },\n",
            "  {\n",
            "    \"titulo_do_anime\": \"Vinland Saga\",\n",
            "    \"dica\": \"Anime histórico ambientado na era viking.\"\n",
            "  },\n",
            "  {\n",
            "    \"titulo_do_anime\": \"Ranking of Kings\",\n",
            "    \"dica\": \"Anime de fantasia sobre um príncipe surdo e mudo que busca se tornar o próximo rei.\"\n",
            "  },\n",
            "  {\n",
            "    \"titulo_do_anime\": \"Bocchi the Rock!\",\n",
            "    \"dica\": \"Anime sobre uma garota introvertida que forma uma banda com outras garotas introvertidas.\"\n",
            "  },\n",
            "  {\n",
            "    \"titulo_do_anime\": \"Chainsaw Man Part 2\",\n",
            "    \"dica\": \"Segunda parte do mangá 'Chainsaw Man'.\"\n",
            "  },\n",
            "  {\n",
            "    \"titulo_do_anime\": \"One Piece Film: Road to Laugh Tale\",\n",
            "    \"dica\": \"Filme que antecede o final do mangá 'One Piece'.\"\n",
            "  },\n",
            "  {\n",
            "    \"titulo_do_anime\": \"Bleach: Eternal Breath\",\n",
            "    \"dica\": \"Arco final do anime 'Bleach'.\"\n",
            "  },\n",
            "  {\n",
            "    \"titulo_do_anime\": \"Tokyo Revengers: Bloody Halloween Arc\",\n",
            "    \"dica\": \"Arco especial que se passa antes dos eventos da primeira temporada do anime.\"\n",
            "  }\n",
            "]\n",
            "```\n"
          ]
        }
      ],
      "source": [
        "!pip install -q -U google-generativeai\n",
        "import google.generativeai as genai\n",
        "from google.colab import userdata\n",
        "api_key = userdata.get('SECRET_KEY')\n",
        "genai.configure(api_key=api_key)\n",
        "\n",
        "model = genai.GenerativeModel('gemini-pro')\n",
        "\n",
        "response = model.generate_content(\"Crie uma tabela no formato JSON. Pense nos últimos lançamentos do mundo manga e anime japonês. Faça a lista 30 títulos mais conhecidos. Use duas variáveis: titulo_do_anime  e dica.\")\n",
        "print(response.text)\n"
      ]
    },
    {
      "cell_type": "code",
      "source": [],
      "metadata": {
        "id": "Rfex5fFhSRMp"
      },
      "execution_count": null,
      "outputs": []
    },
    {
      "cell_type": "code",
      "source": [],
      "metadata": {
        "id": "z34a35fQSR9X"
      },
      "execution_count": null,
      "outputs": []
    }
  ]
}