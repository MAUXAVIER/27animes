{
  "nbformat": 4,
  "nbformat_minor": 0,
  "metadata": {
    "colab": {
      "provenance": [],
      "authorship_tag": "ABX9TyM0DgBI93QCScfOqwsYafp3",
      "include_colab_link": true
    },
    "kernelspec": {
      "name": "python3",
      "display_name": "Python 3"
    },
    "language_info": {
      "name": "python"
    }
  },
  "cells": [
    {
      "cell_type": "markdown",
      "metadata": {
        "id": "view-in-github",
        "colab_type": "text"
      },
      "source": [
        "<a href=\"https://colab.research.google.com/github/MAUXAVIER/27animes/blob/main/Exercicio%20API_key%20e%20engenharia%20de%20prompt.ipynb\" target=\"_parent\"><img src=\"https://colab.research.google.com/assets/colab-badge.svg\" alt=\"Open In Colab\"/></a>"
      ]
    },
    {
      "cell_type": "code",
      "execution_count": 16,
      "metadata": {
        "colab": {
          "base_uri": "https://localhost:8080/",
          "height": 332
        },
        "id": "UjJWaE7ONuic",
        "outputId": "c6c89c5c-1481-4e20-d437-95da5f6bf969"
      },
      "outputs": [
        {
          "output_type": "stream",
          "name": "stdout",
          "text": [
            "Gerador de lista em JSON\n",
            "Quantas colunas?5\n",
            "Quantas linhas?10\n",
            "Qual o tema?Rio Grande do Sul\n",
            "Deseja detalhar o tema?Clima no último mês\n",
            "| **Linha** | **Coluna 1: Data** | **Coluna 2: Temperatura Máxima** | **Coluna 3: Temperatura Mínima** | **Coluna 4: Precipitação** | **Coluna 5: Vento** |\n",
            "|---|---|---|---|---|---|\n",
            "| 1 | 01/08/2023 | 25°C | 15°C | 0 mm | 15 km/h |\n",
            "| 2 | 02/08/2023 | 26°C | 16°C | 0 mm | 17 km/h |\n",
            "| 3 | 03/08/2023 | 27°C | 17°C | 0 mm | 19 km/h |\n",
            "| 4 | 04/08/2023 | 28°C | 18°C | 0 mm | 21 km/h |\n",
            "| 5 | 05/08/2023 | 29°C | 19°C | 0 mm | 23 km/h |\n",
            "| 6 | 06/08/2023 | 30°C | 20°C | 0 mm | 25 km/h |\n",
            "| 7 | 07/08/2023 | 31°C | 21°C | 0 mm | 27 km/h |\n",
            "| 8 | 08/08/2023 | 32°C | 22°C | 0 mm | 29 km/h |\n",
            "| 9 | 09/08/2023 | 33°C | 23°C | 0 mm | 31 km/h |\n",
            "| 10 | 10/08/2023 | 34°C | 24°C | 0 mm | 33 km/h |\n"
          ]
        }
      ],
      "source": [
        "!pip install -q -U google-generativeai\n",
        "import google.generativeai as genai\n",
        "from google.colab import userdata\n",
        "api_key = userdata.get('SECRET_KEY')\n",
        "genai.configure(api_key=api_key)\n",
        "\n",
        "model = genai.GenerativeModel('gemini-pro')\n",
        "\n",
        "print('Gerador de lista em JSON')\n",
        "num_col = input('Quantas colunas?') # testar limite 5 colonas\n",
        "num_lin = input('Quantas linhas?') # testar limite 10 linhas\n",
        "tema = input('Qual o tema?')\n",
        "detal = input('Deseja detalhar o tema?')\n",
        "\n",
        "response = model.generate_content(f\"Formate uma tabela. Número de Linhas: {num_lin} .Número de colunas: {num_col} . Assunto: {tema}. Detalhes: {detal} Pensando na melhor forma de organizar os dados crie as linhas e colunas da tabela.\")\n",
        "print(response.text)\n"
      ]
    }
  ]
}